{
 "cells": [
  {
   "cell_type": "code",
   "execution_count": 2,
   "id": "subsequent-dutch",
   "metadata": {},
   "outputs": [],
   "source": [
    "import os\n",
    "import sys\n",
    "import csv\n",
    "import subprocess\n",
    "import numpy as np"
   ]
  },
  {
   "cell_type": "code",
   "execution_count": 10,
   "id": "macro-jewelry",
   "metadata": {},
   "outputs": [
    {
     "name": "stdout",
     "output_type": "stream",
     "text": [
      "all complete!\n"
     ]
    }
   ],
   "source": [
    "def get_md5sum():\n",
    "    casenums = ['T20200829230426H7fc663be','T20200829230426H2bacdf76','T20200829230426H363b8467','T20200829230426H5d7d7e1e',\n",
    "                'T20200829230426Hb0f8955a','T20200829230426H5b92ea06','T20200829230217H9d9d5648','T20200829230426H9f2c2ffc',\n",
    "                'T20200829231034H60f15679','T20200829230426Had162d54',\n",
    "               ]\n",
    "    opt_dir = '/data1/data/output/coronary/'\n",
    "    myo3070_dir = './myo_mul.npz'\n",
    "    seg3070_dir = './T20210426171955H8c64c21d_seg.npz'\n",
    "    straight_seg3070_dir = './tree1_01.json'\n",
    "    if len(sys.argv) > 3:\n",
    "        print(sys.argv)\n",
    "        path = sys.argv[1]\n",
    "        print(path)\n",
    "    case = []\n",
    "    files = ['case.npy', 'myo_mul.npz', 'shortaxis_seg_dir/tree1_01/tree.npy', 'straight_dcm/rotate_tree1_01.npy', 'naming_mapping_txt.json', 'straight_seg/tree1_01/tree.npy',\n",
    "             'shortaxis_dcm/tree1_01.npy', 'narrow_result.json']\n",
    "    for casenum in casenums:\n",
    "        for file in files:\n",
    "            cmd = 'md5sum {file}'.format(file = os.path.join(opt_dir, casenum, file))\n",
    "            result = subprocess.Popen(cmd, stdout=subprocess.PIPE, stderr=subprocess.PIPE, shell=True)\n",
    "            stderr = result.communicate()\n",
    "            case.append([casenum, file, stderr])\n",
    "    \n",
    "        with open('./md5sum_test.csv','w') as f:\n",
    "            csv1 = csv.writer(f)\n",
    "            csv1.writerows(case)\n",
    "    print('all complete!')\n",
    "\n",
    "\n",
    "get_md5sum()\n",
    "    \n",
    "\n",
    "    "
   ]
  },
  {
   "cell_type": "code",
   "execution_count": null,
   "id": "binding-porcelain",
   "metadata": {},
   "outputs": [],
   "source": []
  }
 ],
 "metadata": {
  "interpreter": {
   "hash": "e534e48711db4d1e1c48977d0d14ff85b1f16d41bcc4fdfd88268a329b3c9d66"
  },
  "kernelspec": {
   "display_name": "Python 3.7.4 64-bit",
   "language": "python",
   "name": "python3"
  },
  "language_info": {
   "codemirror_mode": {
    "name": "ipython",
    "version": 3
   },
   "file_extension": ".py",
   "mimetype": "text/x-python",
   "name": "python",
   "nbconvert_exporter": "python",
   "pygments_lexer": "ipython3",
   "version": "3.7.4"
  }
 },
 "nbformat": 4,
 "nbformat_minor": 5
}
